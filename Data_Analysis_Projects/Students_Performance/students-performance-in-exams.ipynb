{
 "cells": [
  {
   "cell_type": "markdown",
   "metadata": {
    "papermill": {
     "duration": 0.03488,
     "end_time": "2021-01-10T09:02:12.929294",
     "exception": false,
     "start_time": "2021-01-10T09:02:12.894414",
     "status": "completed"
    },
    "tags": []
   },
   "source": []
  },
  {
   "cell_type": "code",
   "execution_count": 1,
   "metadata": {
    "execution": {
     "iopub.execute_input": "2021-01-10T09:02:13.008809Z",
     "iopub.status.busy": "2021-01-10T09:02:13.007969Z",
     "iopub.status.idle": "2021-01-10T09:02:13.056458Z",
     "shell.execute_reply": "2021-01-10T09:02:13.055770Z"
    },
    "papermill": {
     "duration": 0.095079,
     "end_time": "2021-01-10T09:02:13.056612",
     "exception": false,
     "start_time": "2021-01-10T09:02:12.961533",
     "status": "completed"
    },
    "scrolled": true,
    "tags": []
   },
   "outputs": [
    {
     "data": {
      "text/html": [
       "<div>\n",
       "<style scoped>\n",
       "    .dataframe tbody tr th:only-of-type {\n",
       "        vertical-align: middle;\n",
       "    }\n",
       "\n",
       "    .dataframe tbody tr th {\n",
       "        vertical-align: top;\n",
       "    }\n",
       "\n",
       "    .dataframe thead th {\n",
       "        text-align: right;\n",
       "    }\n",
       "</style>\n",
       "<table border=\"1\" class=\"dataframe\">\n",
       "  <thead>\n",
       "    <tr style=\"text-align: right;\">\n",
       "      <th></th>\n",
       "      <th>gender</th>\n",
       "      <th>race/ethnicity</th>\n",
       "      <th>parental level of education</th>\n",
       "      <th>lunch</th>\n",
       "      <th>test preparation course</th>\n",
       "      <th>math score</th>\n",
       "      <th>reading score</th>\n",
       "      <th>writing score</th>\n",
       "    </tr>\n",
       "  </thead>\n",
       "  <tbody>\n",
       "    <tr>\n",
       "      <th>0</th>\n",
       "      <td>female</td>\n",
       "      <td>group B</td>\n",
       "      <td>bachelor's degree</td>\n",
       "      <td>standard</td>\n",
       "      <td>none</td>\n",
       "      <td>72</td>\n",
       "      <td>72</td>\n",
       "      <td>74</td>\n",
       "    </tr>\n",
       "    <tr>\n",
       "      <th>1</th>\n",
       "      <td>female</td>\n",
       "      <td>group C</td>\n",
       "      <td>some college</td>\n",
       "      <td>standard</td>\n",
       "      <td>completed</td>\n",
       "      <td>69</td>\n",
       "      <td>90</td>\n",
       "      <td>88</td>\n",
       "    </tr>\n",
       "    <tr>\n",
       "      <th>2</th>\n",
       "      <td>female</td>\n",
       "      <td>group B</td>\n",
       "      <td>master's degree</td>\n",
       "      <td>standard</td>\n",
       "      <td>none</td>\n",
       "      <td>90</td>\n",
       "      <td>95</td>\n",
       "      <td>93</td>\n",
       "    </tr>\n",
       "    <tr>\n",
       "      <th>3</th>\n",
       "      <td>male</td>\n",
       "      <td>group A</td>\n",
       "      <td>associate's degree</td>\n",
       "      <td>free/reduced</td>\n",
       "      <td>none</td>\n",
       "      <td>47</td>\n",
       "      <td>57</td>\n",
       "      <td>44</td>\n",
       "    </tr>\n",
       "    <tr>\n",
       "      <th>4</th>\n",
       "      <td>male</td>\n",
       "      <td>group C</td>\n",
       "      <td>some college</td>\n",
       "      <td>standard</td>\n",
       "      <td>none</td>\n",
       "      <td>76</td>\n",
       "      <td>78</td>\n",
       "      <td>75</td>\n",
       "    </tr>\n",
       "    <tr>\n",
       "      <th>...</th>\n",
       "      <td>...</td>\n",
       "      <td>...</td>\n",
       "      <td>...</td>\n",
       "      <td>...</td>\n",
       "      <td>...</td>\n",
       "      <td>...</td>\n",
       "      <td>...</td>\n",
       "      <td>...</td>\n",
       "    </tr>\n",
       "    <tr>\n",
       "      <th>995</th>\n",
       "      <td>female</td>\n",
       "      <td>group E</td>\n",
       "      <td>master's degree</td>\n",
       "      <td>standard</td>\n",
       "      <td>completed</td>\n",
       "      <td>88</td>\n",
       "      <td>99</td>\n",
       "      <td>95</td>\n",
       "    </tr>\n",
       "    <tr>\n",
       "      <th>996</th>\n",
       "      <td>male</td>\n",
       "      <td>group C</td>\n",
       "      <td>high school</td>\n",
       "      <td>free/reduced</td>\n",
       "      <td>none</td>\n",
       "      <td>62</td>\n",
       "      <td>55</td>\n",
       "      <td>55</td>\n",
       "    </tr>\n",
       "    <tr>\n",
       "      <th>997</th>\n",
       "      <td>female</td>\n",
       "      <td>group C</td>\n",
       "      <td>high school</td>\n",
       "      <td>free/reduced</td>\n",
       "      <td>completed</td>\n",
       "      <td>59</td>\n",
       "      <td>71</td>\n",
       "      <td>65</td>\n",
       "    </tr>\n",
       "    <tr>\n",
       "      <th>998</th>\n",
       "      <td>female</td>\n",
       "      <td>group D</td>\n",
       "      <td>some college</td>\n",
       "      <td>standard</td>\n",
       "      <td>completed</td>\n",
       "      <td>68</td>\n",
       "      <td>78</td>\n",
       "      <td>77</td>\n",
       "    </tr>\n",
       "    <tr>\n",
       "      <th>999</th>\n",
       "      <td>female</td>\n",
       "      <td>group D</td>\n",
       "      <td>some college</td>\n",
       "      <td>free/reduced</td>\n",
       "      <td>none</td>\n",
       "      <td>77</td>\n",
       "      <td>86</td>\n",
       "      <td>86</td>\n",
       "    </tr>\n",
       "  </tbody>\n",
       "</table>\n",
       "<p>1000 rows × 8 columns</p>\n",
       "</div>"
      ],
      "text/plain": [
       "     gender race/ethnicity parental level of education         lunch  \\\n",
       "0    female        group B           bachelor's degree      standard   \n",
       "1    female        group C                some college      standard   \n",
       "2    female        group B             master's degree      standard   \n",
       "3      male        group A          associate's degree  free/reduced   \n",
       "4      male        group C                some college      standard   \n",
       "..      ...            ...                         ...           ...   \n",
       "995  female        group E             master's degree      standard   \n",
       "996    male        group C                 high school  free/reduced   \n",
       "997  female        group C                 high school  free/reduced   \n",
       "998  female        group D                some college      standard   \n",
       "999  female        group D                some college  free/reduced   \n",
       "\n",
       "    test preparation course  math score  reading score  writing score  \n",
       "0                      none          72             72             74  \n",
       "1                 completed          69             90             88  \n",
       "2                      none          90             95             93  \n",
       "3                      none          47             57             44  \n",
       "4                      none          76             78             75  \n",
       "..                      ...         ...            ...            ...  \n",
       "995               completed          88             99             95  \n",
       "996                    none          62             55             55  \n",
       "997               completed          59             71             65  \n",
       "998               completed          68             78             77  \n",
       "999                    none          77             86             86  \n",
       "\n",
       "[1000 rows x 8 columns]"
      ]
     },
     "execution_count": 1,
     "metadata": {},
     "output_type": "execute_result"
    }
   ],
   "source": [
    "import pandas as pd\n",
    "df=pd.read_csv('/kaggle/input/students-performance-in-exams/StudentsPerformance.csv')\n",
    "df"
   ]
  },
  {
   "cell_type": "code",
   "execution_count": 2,
   "metadata": {
    "execution": {
     "iopub.execute_input": "2021-01-10T09:02:13.130600Z",
     "iopub.status.busy": "2021-01-10T09:02:13.129779Z",
     "iopub.status.idle": "2021-01-10T09:02:13.169325Z",
     "shell.execute_reply": "2021-01-10T09:02:13.169858Z"
    },
    "papermill": {
     "duration": 0.080466,
     "end_time": "2021-01-10T09:02:13.170032",
     "exception": false,
     "start_time": "2021-01-10T09:02:13.089566",
     "status": "completed"
    },
    "scrolled": true,
    "tags": []
   },
   "outputs": [
    {
     "data": {
      "text/html": [
       "<div>\n",
       "<style scoped>\n",
       "    .dataframe tbody tr th:only-of-type {\n",
       "        vertical-align: middle;\n",
       "    }\n",
       "\n",
       "    .dataframe tbody tr th {\n",
       "        vertical-align: top;\n",
       "    }\n",
       "\n",
       "    .dataframe thead th {\n",
       "        text-align: right;\n",
       "    }\n",
       "</style>\n",
       "<table border=\"1\" class=\"dataframe\">\n",
       "  <thead>\n",
       "    <tr style=\"text-align: right;\">\n",
       "      <th></th>\n",
       "      <th>gender</th>\n",
       "      <th>race/ethnicity</th>\n",
       "      <th>parental level of education</th>\n",
       "      <th>lunch</th>\n",
       "      <th>test preparation course</th>\n",
       "      <th>math score</th>\n",
       "      <th>reading score</th>\n",
       "      <th>writing score</th>\n",
       "    </tr>\n",
       "  </thead>\n",
       "  <tbody>\n",
       "    <tr>\n",
       "      <th>0</th>\n",
       "      <td>female</td>\n",
       "      <td>group B</td>\n",
       "      <td>bachelor's degree</td>\n",
       "      <td>standard</td>\n",
       "      <td>none</td>\n",
       "      <td>72</td>\n",
       "      <td>72</td>\n",
       "      <td>74</td>\n",
       "    </tr>\n",
       "    <tr>\n",
       "      <th>1</th>\n",
       "      <td>female</td>\n",
       "      <td>group C</td>\n",
       "      <td>some college</td>\n",
       "      <td>standard</td>\n",
       "      <td>completed</td>\n",
       "      <td>69</td>\n",
       "      <td>90</td>\n",
       "      <td>88</td>\n",
       "    </tr>\n",
       "    <tr>\n",
       "      <th>2</th>\n",
       "      <td>female</td>\n",
       "      <td>group B</td>\n",
       "      <td>master's degree</td>\n",
       "      <td>standard</td>\n",
       "      <td>none</td>\n",
       "      <td>90</td>\n",
       "      <td>95</td>\n",
       "      <td>93</td>\n",
       "    </tr>\n",
       "    <tr>\n",
       "      <th>3</th>\n",
       "      <td>male</td>\n",
       "      <td>group A</td>\n",
       "      <td>associate's degree</td>\n",
       "      <td>free/reduced</td>\n",
       "      <td>none</td>\n",
       "      <td>47</td>\n",
       "      <td>57</td>\n",
       "      <td>44</td>\n",
       "    </tr>\n",
       "    <tr>\n",
       "      <th>4</th>\n",
       "      <td>male</td>\n",
       "      <td>group C</td>\n",
       "      <td>some college</td>\n",
       "      <td>standard</td>\n",
       "      <td>none</td>\n",
       "      <td>76</td>\n",
       "      <td>78</td>\n",
       "      <td>75</td>\n",
       "    </tr>\n",
       "    <tr>\n",
       "      <th>...</th>\n",
       "      <td>...</td>\n",
       "      <td>...</td>\n",
       "      <td>...</td>\n",
       "      <td>...</td>\n",
       "      <td>...</td>\n",
       "      <td>...</td>\n",
       "      <td>...</td>\n",
       "      <td>...</td>\n",
       "    </tr>\n",
       "    <tr>\n",
       "      <th>995</th>\n",
       "      <td>female</td>\n",
       "      <td>group E</td>\n",
       "      <td>master's degree</td>\n",
       "      <td>standard</td>\n",
       "      <td>completed</td>\n",
       "      <td>88</td>\n",
       "      <td>99</td>\n",
       "      <td>95</td>\n",
       "    </tr>\n",
       "    <tr>\n",
       "      <th>996</th>\n",
       "      <td>male</td>\n",
       "      <td>group C</td>\n",
       "      <td>high school</td>\n",
       "      <td>free/reduced</td>\n",
       "      <td>none</td>\n",
       "      <td>62</td>\n",
       "      <td>55</td>\n",
       "      <td>55</td>\n",
       "    </tr>\n",
       "    <tr>\n",
       "      <th>997</th>\n",
       "      <td>female</td>\n",
       "      <td>group C</td>\n",
       "      <td>high school</td>\n",
       "      <td>free/reduced</td>\n",
       "      <td>completed</td>\n",
       "      <td>59</td>\n",
       "      <td>71</td>\n",
       "      <td>65</td>\n",
       "    </tr>\n",
       "    <tr>\n",
       "      <th>998</th>\n",
       "      <td>female</td>\n",
       "      <td>group D</td>\n",
       "      <td>some college</td>\n",
       "      <td>standard</td>\n",
       "      <td>completed</td>\n",
       "      <td>68</td>\n",
       "      <td>78</td>\n",
       "      <td>77</td>\n",
       "    </tr>\n",
       "    <tr>\n",
       "      <th>999</th>\n",
       "      <td>female</td>\n",
       "      <td>group D</td>\n",
       "      <td>some college</td>\n",
       "      <td>free/reduced</td>\n",
       "      <td>none</td>\n",
       "      <td>77</td>\n",
       "      <td>86</td>\n",
       "      <td>86</td>\n",
       "    </tr>\n",
       "  </tbody>\n",
       "</table>\n",
       "<p>1000 rows × 8 columns</p>\n",
       "</div>"
      ],
      "text/plain": [
       "     gender race/ethnicity parental level of education         lunch  \\\n",
       "0    female        group B           bachelor's degree      standard   \n",
       "1    female        group C                some college      standard   \n",
       "2    female        group B             master's degree      standard   \n",
       "3      male        group A          associate's degree  free/reduced   \n",
       "4      male        group C                some college      standard   \n",
       "..      ...            ...                         ...           ...   \n",
       "995  female        group E             master's degree      standard   \n",
       "996    male        group C                 high school  free/reduced   \n",
       "997  female        group C                 high school  free/reduced   \n",
       "998  female        group D                some college      standard   \n",
       "999  female        group D                some college  free/reduced   \n",
       "\n",
       "    test preparation course  math score  reading score  writing score  \n",
       "0                      none          72             72             74  \n",
       "1                 completed          69             90             88  \n",
       "2                      none          90             95             93  \n",
       "3                      none          47             57             44  \n",
       "4                      none          76             78             75  \n",
       "..                      ...         ...            ...            ...  \n",
       "995               completed          88             99             95  \n",
       "996                    none          62             55             55  \n",
       "997               completed          59             71             65  \n",
       "998               completed          68             78             77  \n",
       "999                    none          77             86             86  \n",
       "\n",
       "[1000 rows x 8 columns]"
      ]
     },
     "execution_count": 2,
     "metadata": {},
     "output_type": "execute_result"
    }
   ],
   "source": [
    "df1=df.dropna()\n",
    "df1"
   ]
  },
  {
   "cell_type": "markdown",
   "metadata": {
    "papermill": {
     "duration": 0.034049,
     "end_time": "2021-01-10T09:02:13.238118",
     "exception": false,
     "start_time": "2021-01-10T09:02:13.204069",
     "status": "completed"
    },
    "tags": []
   },
   "source": [
    "#  -----Analyzing Results On the Basis of  'Parental Level Of Education'------"
   ]
  },
  {
   "cell_type": "code",
   "execution_count": 3,
   "metadata": {
    "execution": {
     "iopub.execute_input": "2021-01-10T09:02:13.315433Z",
     "iopub.status.busy": "2021-01-10T09:02:13.314399Z",
     "iopub.status.idle": "2021-01-10T09:02:13.320096Z",
     "shell.execute_reply": "2021-01-10T09:02:13.319531Z"
    },
    "papermill": {
     "duration": 0.047169,
     "end_time": "2021-01-10T09:02:13.320259",
     "exception": false,
     "start_time": "2021-01-10T09:02:13.273090",
     "status": "completed"
    },
    "tags": []
   },
   "outputs": [
    {
     "data": {
      "text/plain": [
       "<pandas.core.groupby.generic.DataFrameGroupBy object at 0x7f9b4b45d550>"
      ]
     },
     "execution_count": 3,
     "metadata": {},
     "output_type": "execute_result"
    }
   ],
   "source": [
    "df2=df1.groupby([\"parental level of education\"])\n",
    "df2"
   ]
  },
  {
   "cell_type": "code",
   "execution_count": 4,
   "metadata": {
    "execution": {
     "iopub.execute_input": "2021-01-10T09:02:13.389805Z",
     "iopub.status.busy": "2021-01-10T09:02:13.389091Z",
     "iopub.status.idle": "2021-01-10T09:02:13.392719Z",
     "shell.execute_reply": "2021-01-10T09:02:13.393213Z"
    },
    "papermill": {
     "duration": 0.041849,
     "end_time": "2021-01-10T09:02:13.393373",
     "exception": false,
     "start_time": "2021-01-10T09:02:13.351524",
     "status": "completed"
    },
    "tags": []
   },
   "outputs": [],
   "source": [
    "df3=df2.get_group(\"bachelor's degree\")"
   ]
  },
  {
   "cell_type": "code",
   "execution_count": 5,
   "metadata": {
    "execution": {
     "iopub.execute_input": "2021-01-10T09:02:13.460825Z",
     "iopub.status.busy": "2021-01-10T09:02:13.460079Z",
     "iopub.status.idle": "2021-01-10T09:02:13.467794Z",
     "shell.execute_reply": "2021-01-10T09:02:13.468362Z"
    },
    "papermill": {
     "duration": 0.043138,
     "end_time": "2021-01-10T09:02:13.468523",
     "exception": false,
     "start_time": "2021-01-10T09:02:13.425385",
     "status": "completed"
    },
    "tags": []
   },
   "outputs": [
    {
     "data": {
      "text/plain": [
       "69.38983050847457"
      ]
     },
     "execution_count": 5,
     "metadata": {},
     "output_type": "execute_result"
    }
   ],
   "source": [
    "df3[\"math score\"].mean()\n",
    "\n"
   ]
  },
  {
   "cell_type": "code",
   "execution_count": 6,
   "metadata": {
    "execution": {
     "iopub.execute_input": "2021-01-10T09:02:13.539692Z",
     "iopub.status.busy": "2021-01-10T09:02:13.538771Z",
     "iopub.status.idle": "2021-01-10T09:02:13.544236Z",
     "shell.execute_reply": "2021-01-10T09:02:13.543443Z"
    },
    "papermill": {
     "duration": 0.043835,
     "end_time": "2021-01-10T09:02:13.544358",
     "exception": false,
     "start_time": "2021-01-10T09:02:13.500523",
     "status": "completed"
    },
    "tags": []
   },
   "outputs": [
    {
     "data": {
      "text/plain": [
       "73.0"
      ]
     },
     "execution_count": 6,
     "metadata": {},
     "output_type": "execute_result"
    }
   ],
   "source": [
    "df3[\"reading score\"].mean()\n"
   ]
  },
  {
   "cell_type": "code",
   "execution_count": 7,
   "metadata": {
    "execution": {
     "iopub.execute_input": "2021-01-10T09:02:13.615765Z",
     "iopub.status.busy": "2021-01-10T09:02:13.614995Z",
     "iopub.status.idle": "2021-01-10T09:02:13.620803Z",
     "shell.execute_reply": "2021-01-10T09:02:13.620118Z"
    },
    "papermill": {
     "duration": 0.044358,
     "end_time": "2021-01-10T09:02:13.620917",
     "exception": false,
     "start_time": "2021-01-10T09:02:13.576559",
     "status": "completed"
    },
    "tags": []
   },
   "outputs": [
    {
     "data": {
      "text/plain": [
       "73.38135593220339"
      ]
     },
     "execution_count": 7,
     "metadata": {},
     "output_type": "execute_result"
    }
   ],
   "source": [
    "df3[\"writing score\"].mean()\n"
   ]
  },
  {
   "cell_type": "code",
   "execution_count": 8,
   "metadata": {
    "execution": {
     "iopub.execute_input": "2021-01-10T09:02:13.695299Z",
     "iopub.status.busy": "2021-01-10T09:02:13.694553Z",
     "iopub.status.idle": "2021-01-10T09:02:13.699216Z",
     "shell.execute_reply": "2021-01-10T09:02:13.698613Z"
    },
    "papermill": {
     "duration": 0.045321,
     "end_time": "2021-01-10T09:02:13.699345",
     "exception": false,
     "start_time": "2021-01-10T09:02:13.654024",
     "status": "completed"
    },
    "tags": []
   },
   "outputs": [],
   "source": [
    "import matplotlib.pyplot as plt\n",
    "%matplotlib inline"
   ]
  },
  {
   "cell_type": "code",
   "execution_count": 9,
   "metadata": {
    "execution": {
     "iopub.execute_input": "2021-01-10T09:02:13.772597Z",
     "iopub.status.busy": "2021-01-10T09:02:13.771805Z",
     "iopub.status.idle": "2021-01-10T09:02:13.775970Z",
     "shell.execute_reply": "2021-01-10T09:02:13.775339Z"
    },
    "papermill": {
     "duration": 0.043436,
     "end_time": "2021-01-10T09:02:13.776089",
     "exception": false,
     "start_time": "2021-01-10T09:02:13.732653",
     "status": "completed"
    },
    "tags": []
   },
   "outputs": [],
   "source": [
    "values=[69.3,73,73.3]\n",
    "ple=[\"math score\", \"reading score\", \"writing score\"]"
   ]
  },
  {
   "cell_type": "markdown",
   "metadata": {
    "papermill": {
     "duration": 0.032524,
     "end_time": "2021-01-10T09:02:13.841814",
     "exception": false,
     "start_time": "2021-01-10T09:02:13.809290",
     "status": "completed"
    },
    "tags": []
   },
   "source": [
    "# RESULTS FOR BACHLELOR'S DEGREE"
   ]
  },
  {
   "cell_type": "code",
   "execution_count": 10,
   "metadata": {
    "execution": {
     "iopub.execute_input": "2021-01-10T09:02:13.913698Z",
     "iopub.status.busy": "2021-01-10T09:02:13.912992Z",
     "iopub.status.idle": "2021-01-10T09:02:14.104883Z",
     "shell.execute_reply": "2021-01-10T09:02:14.104255Z"
    },
    "papermill": {
     "duration": 0.230327,
     "end_time": "2021-01-10T09:02:14.105002",
     "exception": false,
     "start_time": "2021-01-10T09:02:13.874675",
     "status": "completed"
    },
    "scrolled": true,
    "tags": []
   },
   "outputs": [
    {
     "data": {
      "text/plain": [
       "Text(0.5, 1.0, 'AVERAGE SCORE PERCENTAGE OF STUDENTS !!')"
      ]
     },
     "execution_count": 10,
     "metadata": {},
     "output_type": "execute_result"
    },
    {
     "data": {
      "image/png": "[encoded data removed]",
      "text/plain": [
       "<Figure size 432x288 with 1 Axes>"
      ]
     },
     "metadata": {},
     "output_type": "display_data"
    }
   ],
   "source": [
    "plt.pie(values,labels=ple,autopct='%1.0f%%')\n",
    "plt.title(\"AVERAGE SCORE PERCENTAGE OF STUDENTS !!\")"
   ]
  },
  {
   "cell_type": "code",
   "execution_count": 11,
   "metadata": {
    "execution": {
     "iopub.execute_input": "2021-01-10T09:02:14.179434Z",
     "iopub.status.busy": "2021-01-10T09:02:14.178739Z",
     "iopub.status.idle": "2021-01-10T09:02:14.181773Z",
     "shell.execute_reply": "2021-01-10T09:02:14.182394Z"
    },
    "papermill": {
     "duration": 0.043688,
     "end_time": "2021-01-10T09:02:14.182567",
     "exception": false,
     "start_time": "2021-01-10T09:02:14.138879",
     "status": "completed"
    },
    "tags": []
   },
   "outputs": [],
   "source": [
    "df4=df2.get_group(\"master's degree\")"
   ]
  },
  {
   "cell_type": "code",
   "execution_count": 12,
   "metadata": {
    "execution": {
     "iopub.execute_input": "2021-01-10T09:02:14.255912Z",
     "iopub.status.busy": "2021-01-10T09:02:14.255288Z",
     "iopub.status.idle": "2021-01-10T09:02:14.263635Z",
     "shell.execute_reply": "2021-01-10T09:02:14.262405Z"
    },
    "papermill": {
     "duration": 0.046566,
     "end_time": "2021-01-10T09:02:14.263769",
     "exception": false,
     "start_time": "2021-01-10T09:02:14.217203",
     "status": "completed"
    },
    "tags": []
   },
   "outputs": [
    {
     "data": {
      "text/plain": [
       "69.7457627118644"
      ]
     },
     "execution_count": 12,
     "metadata": {},
     "output_type": "execute_result"
    }
   ],
   "source": [
    "df4['math score'].mean()"
   ]
  },
  {
   "cell_type": "code",
   "execution_count": 13,
   "metadata": {
    "execution": {
     "iopub.execute_input": "2021-01-10T09:02:14.341079Z",
     "iopub.status.busy": "2021-01-10T09:02:14.340200Z",
     "iopub.status.idle": "2021-01-10T09:02:14.343738Z",
     "shell.execute_reply": "2021-01-10T09:02:14.344349Z"
    },
    "papermill": {
     "duration": 0.044825,
     "end_time": "2021-01-10T09:02:14.344485",
     "exception": false,
     "start_time": "2021-01-10T09:02:14.299660",
     "status": "completed"
    },
    "tags": []
   },
   "outputs": [
    {
     "data": {
      "text/plain": [
       "75.37288135593221"
      ]
     },
     "execution_count": 13,
     "metadata": {},
     "output_type": "execute_result"
    }
   ],
   "source": [
    "df4['reading score'].mean()"
   ]
  },
  {
   "cell_type": "code",
   "execution_count": 14,
   "metadata": {
    "execution": {
     "iopub.execute_input": "2021-01-10T09:02:14.419427Z",
     "iopub.status.busy": "2021-01-10T09:02:14.418429Z",
     "iopub.status.idle": "2021-01-10T09:02:14.425262Z",
     "shell.execute_reply": "2021-01-10T09:02:14.424741Z"
    },
    "papermill": {
     "duration": 0.045869,
     "end_time": "2021-01-10T09:02:14.425378",
     "exception": false,
     "start_time": "2021-01-10T09:02:14.379509",
     "status": "completed"
    },
    "tags": []
   },
   "outputs": [
    {
     "data": {
      "text/plain": [
       "75.67796610169492"
      ]
     },
     "execution_count": 14,
     "metadata": {},
     "output_type": "execute_result"
    }
   ],
   "source": [
    "df4['writing score'].mean()"
   ]
  },
  {
   "cell_type": "code",
   "execution_count": 15,
   "metadata": {
    "execution": {
     "iopub.execute_input": "2021-01-10T09:02:14.503869Z",
     "iopub.status.busy": "2021-01-10T09:02:14.502837Z",
     "iopub.status.idle": "2021-01-10T09:02:14.505304Z",
     "shell.execute_reply": "2021-01-10T09:02:14.505893Z"
    },
    "papermill": {
     "duration": 0.044742,
     "end_time": "2021-01-10T09:02:14.506043",
     "exception": false,
     "start_time": "2021-01-10T09:02:14.461301",
     "status": "completed"
    },
    "tags": []
   },
   "outputs": [],
   "source": [
    "values2=[69.7,75.3,75.6]\n",
    "ple2=[\"math score\",\"reading score\",\"writing score\"]"
   ]
  },
  {
   "cell_type": "markdown",
   "metadata": {
    "papermill": {
     "duration": 0.035963,
     "end_time": "2021-01-10T09:02:14.577938",
     "exception": false,
     "start_time": "2021-01-10T09:02:14.541975",
     "status": "completed"
    },
    "tags": []
   },
   "source": [
    "# RESULTS FOR MASTER'S DEGREE"
   ]
  },
  {
   "cell_type": "code",
   "execution_count": 16,
   "metadata": {
    "execution": {
     "iopub.execute_input": "2021-01-10T09:02:14.655965Z",
     "iopub.status.busy": "2021-01-10T09:02:14.654872Z",
     "iopub.status.idle": "2021-01-10T09:02:14.722607Z",
     "shell.execute_reply": "2021-01-10T09:02:14.722032Z"
    },
    "papermill": {
     "duration": 0.108358,
     "end_time": "2021-01-10T09:02:14.722721",
     "exception": false,
     "start_time": "2021-01-10T09:02:14.614363",
     "status": "completed"
    },
    "tags": []
   },
   "outputs": [
    {
     "data": {
      "text/plain": [
       "Text(0.5, 1.0, 'AVERAGE SCORE PERCENTAGE OF STUDENTS !!')"
      ]
     },
     "execution_count": 16,
     "metadata": {},
     "output_type": "execute_result"
    },
    {
     "data": {
      "image/png": "[encoded data removed]",
      "text/plain": [
       "<Figure size 432x288 with 1 Axes>"
      ]
     },
     "metadata": {},
     "output_type": "display_data"
    }
   ],
   "source": [
    "plt.pie(values2, labels=ple2,autopct='%1.0f%%')\n",
    "plt.title(\"AVERAGE SCORE PERCENTAGE OF STUDENTS !!\")"
   ]
  },
  {
   "cell_type": "code",
   "execution_count": 17,
   "metadata": {
    "execution": {
     "iopub.execute_input": "2021-01-10T09:02:14.805036Z",
     "iopub.status.busy": "2021-01-10T09:02:14.804384Z",
     "iopub.status.idle": "2021-01-10T09:02:14.807699Z",
     "shell.execute_reply": "2021-01-10T09:02:14.808251Z"
    },
    "papermill": {
     "duration": 0.04749,
     "end_time": "2021-01-10T09:02:14.808398",
     "exception": false,
     "start_time": "2021-01-10T09:02:14.760908",
     "status": "completed"
    },
    "tags": []
   },
   "outputs": [],
   "source": [
    "df5=df2.get_group('high school')"
   ]
  },
  {
   "cell_type": "code",
   "execution_count": 18,
   "metadata": {
    "execution": {
     "iopub.execute_input": "2021-01-10T09:02:14.891459Z",
     "iopub.status.busy": "2021-01-10T09:02:14.890599Z",
     "iopub.status.idle": "2021-01-10T09:02:14.897502Z",
     "shell.execute_reply": "2021-01-10T09:02:14.896867Z"
    },
    "papermill": {
     "duration": 0.051584,
     "end_time": "2021-01-10T09:02:14.897615",
     "exception": false,
     "start_time": "2021-01-10T09:02:14.846031",
     "status": "completed"
    },
    "tags": []
   },
   "outputs": [
    {
     "data": {
      "text/plain": [
       "62.13775510204081"
      ]
     },
     "execution_count": 18,
     "metadata": {},
     "output_type": "execute_result"
    }
   ],
   "source": [
    "df5['math score'].mean()"
   ]
  },
  {
   "cell_type": "code",
   "execution_count": 19,
   "metadata": {
    "execution": {
     "iopub.execute_input": "2021-01-10T09:02:14.983209Z",
     "iopub.status.busy": "2021-01-10T09:02:14.982075Z",
     "iopub.status.idle": "2021-01-10T09:02:14.989014Z",
     "shell.execute_reply": "2021-01-10T09:02:14.988222Z"
    },
    "papermill": {
     "duration": 0.052908,
     "end_time": "2021-01-10T09:02:14.989212",
     "exception": false,
     "start_time": "2021-01-10T09:02:14.936304",
     "status": "completed"
    },
    "tags": []
   },
   "outputs": [
    {
     "data": {
      "text/plain": [
       "64.70408163265306"
      ]
     },
     "execution_count": 19,
     "metadata": {},
     "output_type": "execute_result"
    }
   ],
   "source": [
    "df5['reading score'].mean()"
   ]
  },
  {
   "cell_type": "code",
   "execution_count": 20,
   "metadata": {
    "execution": {
     "iopub.execute_input": "2021-01-10T09:02:15.079374Z",
     "iopub.status.busy": "2021-01-10T09:02:15.078084Z",
     "iopub.status.idle": "2021-01-10T09:02:15.083686Z",
     "shell.execute_reply": "2021-01-10T09:02:15.084281Z"
    },
    "papermill": {
     "duration": 0.055052,
     "end_time": "2021-01-10T09:02:15.084462",
     "exception": false,
     "start_time": "2021-01-10T09:02:15.029410",
     "status": "completed"
    },
    "tags": []
   },
   "outputs": [
    {
     "data": {
      "text/plain": [
       "62.44897959183673"
      ]
     },
     "execution_count": 20,
     "metadata": {},
     "output_type": "execute_result"
    }
   ],
   "source": [
    "df5['writing score'].mean()"
   ]
  },
  {
   "cell_type": "code",
   "execution_count": 21,
   "metadata": {
    "execution": {
     "iopub.execute_input": "2021-01-10T09:02:15.175306Z",
     "iopub.status.busy": "2021-01-10T09:02:15.174259Z",
     "iopub.status.idle": "2021-01-10T09:02:15.176329Z",
     "shell.execute_reply": "2021-01-10T09:02:15.176978Z"
    },
    "papermill": {
     "duration": 0.051201,
     "end_time": "2021-01-10T09:02:15.177199",
     "exception": false,
     "start_time": "2021-01-10T09:02:15.125998",
     "status": "completed"
    },
    "tags": []
   },
   "outputs": [],
   "source": [
    "values3=[62.1,64.7,62.4]\n",
    "ple3=[\"math score\",\"reading score\",\"writing score\"]"
   ]
  },
  {
   "cell_type": "markdown",
   "metadata": {
    "papermill": {
     "duration": 0.043263,
     "end_time": "2021-01-10T09:02:15.262681",
     "exception": false,
     "start_time": "2021-01-10T09:02:15.219418",
     "status": "completed"
    },
    "tags": []
   },
   "source": [
    "# RESULTS FOR HIGH SCHOOL"
   ]
  },
  {
   "cell_type": "code",
   "execution_count": 22,
   "metadata": {
    "execution": {
     "iopub.execute_input": "2021-01-10T09:02:15.352488Z",
     "iopub.status.busy": "2021-01-10T09:02:15.351819Z",
     "iopub.status.idle": "2021-01-10T09:02:15.423806Z",
     "shell.execute_reply": "2021-01-10T09:02:15.423102Z"
    },
    "papermill": {
     "duration": 0.116003,
     "end_time": "2021-01-10T09:02:15.423931",
     "exception": false,
     "start_time": "2021-01-10T09:02:15.307928",
     "status": "completed"
    },
    "tags": []
   },
   "outputs": [
    {
     "data": {
      "text/plain": [
       "Text(0.5, 1.0, 'AVERAGE SCORE PERCENTAGE OF STUDENTS !!')"
      ]
     },
     "execution_count": 22,
     "metadata": {},
     "output_type": "execute_result"
    },
    {
     "data": {
      "image/png": "[encoded data removed]",
      "text/plain": [
       "<Figure size 432x288 with 1 Axes>"
      ]
     },
     "metadata": {},
     "output_type": "display_data"
    }
   ],
   "source": [
    "plt.pie(values3,labels=ple3,autopct='%1.0f%%')\n",
    "plt.title(\"AVERAGE SCORE PERCENTAGE OF STUDENTS !!\")"
   ]
  },
  {
   "cell_type": "code",
   "execution_count": 23,
   "metadata": {
    "execution": {
     "iopub.execute_input": "2021-01-10T09:02:15.525339Z",
     "iopub.status.busy": "2021-01-10T09:02:15.524282Z",
     "iopub.status.idle": "2021-01-10T09:02:15.527757Z",
     "shell.execute_reply": "2021-01-10T09:02:15.527036Z"
    },
    "papermill": {
     "duration": 0.060328,
     "end_time": "2021-01-10T09:02:15.527898",
     "exception": false,
     "start_time": "2021-01-10T09:02:15.467570",
     "status": "completed"
    },
    "tags": []
   },
   "outputs": [],
   "source": [
    "df6=df2.get_group('some college')"
   ]
  },
  {
   "cell_type": "code",
   "execution_count": 24,
   "metadata": {
    "execution": {
     "iopub.execute_input": "2021-01-10T09:02:15.624447Z",
     "iopub.status.busy": "2021-01-10T09:02:15.623749Z",
     "iopub.status.idle": "2021-01-10T09:02:15.628925Z",
     "shell.execute_reply": "2021-01-10T09:02:15.628404Z"
    },
    "papermill": {
     "duration": 0.055512,
     "end_time": "2021-01-10T09:02:15.629041",
     "exception": false,
     "start_time": "2021-01-10T09:02:15.573529",
     "status": "completed"
    },
    "tags": []
   },
   "outputs": [
    {
     "data": {
      "text/plain": [
       "67.1283185840708"
      ]
     },
     "execution_count": 24,
     "metadata": {},
     "output_type": "execute_result"
    }
   ],
   "source": [
    "df6['math score'].mean()"
   ]
  },
  {
   "cell_type": "code",
   "execution_count": 25,
   "metadata": {
    "execution": {
     "iopub.execute_input": "2021-01-10T09:02:15.718508Z",
     "iopub.status.busy": "2021-01-10T09:02:15.717856Z",
     "iopub.status.idle": "2021-01-10T09:02:15.722330Z",
     "shell.execute_reply": "2021-01-10T09:02:15.721716Z"
    },
    "papermill": {
     "duration": 0.050885,
     "end_time": "2021-01-10T09:02:15.722440",
     "exception": false,
     "start_time": "2021-01-10T09:02:15.671555",
     "status": "completed"
    },
    "tags": []
   },
   "outputs": [
    {
     "data": {
      "text/plain": [
       "69.46017699115045"
      ]
     },
     "execution_count": 25,
     "metadata": {},
     "output_type": "execute_result"
    }
   ],
   "source": [
    "df6['reading score'].mean()"
   ]
  },
  {
   "cell_type": "code",
   "execution_count": 26,
   "metadata": {
    "execution": {
     "iopub.execute_input": "2021-01-10T09:02:15.812900Z",
     "iopub.status.busy": "2021-01-10T09:02:15.811958Z",
     "iopub.status.idle": "2021-01-10T09:02:15.817409Z",
     "shell.execute_reply": "2021-01-10T09:02:15.816773Z"
    },
    "papermill": {
     "duration": 0.053704,
     "end_time": "2021-01-10T09:02:15.817522",
     "exception": false,
     "start_time": "2021-01-10T09:02:15.763818",
     "status": "completed"
    },
    "tags": []
   },
   "outputs": [
    {
     "data": {
      "text/plain": [
       "68.84070796460178"
      ]
     },
     "execution_count": 26,
     "metadata": {},
     "output_type": "execute_result"
    }
   ],
   "source": [
    "df6['writing score'].mean()"
   ]
  },
  {
   "cell_type": "code",
   "execution_count": 27,
   "metadata": {
    "execution": {
     "iopub.execute_input": "2021-01-10T09:02:15.908425Z",
     "iopub.status.busy": "2021-01-10T09:02:15.907786Z",
     "iopub.status.idle": "2021-01-10T09:02:15.911512Z",
     "shell.execute_reply": "2021-01-10T09:02:15.911986Z"
    },
    "papermill": {
     "duration": 0.052319,
     "end_time": "2021-01-10T09:02:15.912148",
     "exception": false,
     "start_time": "2021-01-10T09:02:15.859829",
     "status": "completed"
    },
    "tags": []
   },
   "outputs": [],
   "source": [
    "values4=[67.1,69.4,68.8]\n",
    "ple4=[\"math score\",\"reading score\",\"writing score\"]"
   ]
  },
  {
   "cell_type": "markdown",
   "metadata": {
    "papermill": {
     "duration": 0.042103,
     "end_time": "2021-01-10T09:02:15.996655",
     "exception": false,
     "start_time": "2021-01-10T09:02:15.954552",
     "status": "completed"
    },
    "tags": []
   },
   "source": [
    "# RESULTS OF SOME COLLEGE"
   ]
  },
  {
   "cell_type": "code",
   "execution_count": 28,
   "metadata": {
    "execution": {
     "iopub.execute_input": "2021-01-10T09:02:16.094519Z",
     "iopub.status.busy": "2021-01-10T09:02:16.092803Z",
     "iopub.status.idle": "2021-01-10T09:02:16.159107Z",
     "shell.execute_reply": "2021-01-10T09:02:16.158497Z"
    },
    "papermill": {
     "duration": 0.120046,
     "end_time": "2021-01-10T09:02:16.159240",
     "exception": false,
     "start_time": "2021-01-10T09:02:16.039194",
     "status": "completed"
    },
    "tags": []
   },
   "outputs": [
    {
     "data": {
      "text/plain": [
       "Text(0.5, 1.0, 'AVERAGE SCORE PERCENTAGE OF STUDENTS ')"
      ]
     },
     "execution_count": 28,
     "metadata": {},
     "output_type": "execute_result"
    },
    {
     "data": {
      "image/png": "[encoded data removed]",
      "text/plain": [
       "<Figure size 432x288 with 1 Axes>"
      ]
     },
     "metadata": {},
     "output_type": "display_data"
    }
   ],
   "source": [
    "plt.pie(values4, labels=ple4, autopct='%1.0f%%')\n",
    "plt.title(\"AVERAGE SCORE PERCENTAGE OF STUDENTS \")"
   ]
  },
  {
   "cell_type": "code",
   "execution_count": 29,
   "metadata": {
    "execution": {
     "iopub.execute_input": "2021-01-10T09:02:16.251969Z",
     "iopub.status.busy": "2021-01-10T09:02:16.251118Z",
     "iopub.status.idle": "2021-01-10T09:02:16.257052Z",
     "shell.execute_reply": "2021-01-10T09:02:16.256579Z"
    },
    "papermill": {
     "duration": 0.054946,
     "end_time": "2021-01-10T09:02:16.257191",
     "exception": false,
     "start_time": "2021-01-10T09:02:16.202245",
     "status": "completed"
    },
    "tags": []
   },
   "outputs": [
    {
     "data": {
      "text/plain": [
       "<pandas.core.groupby.generic.DataFrameGroupBy object at 0x7f9b492c5d90>"
      ]
     },
     "execution_count": 29,
     "metadata": {},
     "output_type": "execute_result"
    }
   ],
   "source": [
    "df7=df1.groupby(['gender'])\n",
    "df7"
   ]
  },
  {
   "cell_type": "code",
   "execution_count": 30,
   "metadata": {
    "execution": {
     "iopub.execute_input": "2021-01-10T09:02:16.351941Z",
     "iopub.status.busy": "2021-01-10T09:02:16.350955Z",
     "iopub.status.idle": "2021-01-10T09:02:16.356706Z",
     "shell.execute_reply": "2021-01-10T09:02:16.356175Z"
    },
    "papermill": {
     "duration": 0.055713,
     "end_time": "2021-01-10T09:02:16.356816",
     "exception": false,
     "start_time": "2021-01-10T09:02:16.301103",
     "status": "completed"
    },
    "tags": []
   },
   "outputs": [],
   "source": [
    "df8=df7.get_group('female')"
   ]
  },
  {
   "cell_type": "code",
   "execution_count": 31,
   "metadata": {
    "execution": {
     "iopub.execute_input": "2021-01-10T09:02:16.452194Z",
     "iopub.status.busy": "2021-01-10T09:02:16.451509Z",
     "iopub.status.idle": "2021-01-10T09:02:16.455973Z",
     "shell.execute_reply": "2021-01-10T09:02:16.455463Z"
    },
    "papermill": {
     "duration": 0.05501,
     "end_time": "2021-01-10T09:02:16.456087",
     "exception": false,
     "start_time": "2021-01-10T09:02:16.401077",
     "status": "completed"
    },
    "tags": []
   },
   "outputs": [
    {
     "data": {
      "text/plain": [
       "63.633204633204635"
      ]
     },
     "execution_count": 31,
     "metadata": {},
     "output_type": "execute_result"
    }
   ],
   "source": [
    "df8['math score'].mean()"
   ]
  },
  {
   "cell_type": "code",
   "execution_count": 32,
   "metadata": {
    "execution": {
     "iopub.execute_input": "2021-01-10T09:02:16.554677Z",
     "iopub.status.busy": "2021-01-10T09:02:16.553791Z",
     "iopub.status.idle": "2021-01-10T09:02:16.558944Z",
     "shell.execute_reply": "2021-01-10T09:02:16.558447Z"
    },
    "papermill": {
     "duration": 0.05658,
     "end_time": "2021-01-10T09:02:16.559063",
     "exception": false,
     "start_time": "2021-01-10T09:02:16.502483",
     "status": "completed"
    },
    "tags": []
   },
   "outputs": [
    {
     "data": {
      "text/plain": [
       "72.60810810810811"
      ]
     },
     "execution_count": 32,
     "metadata": {},
     "output_type": "execute_result"
    }
   ],
   "source": [
    "df8['reading score'].mean()"
   ]
  },
  {
   "cell_type": "code",
   "execution_count": 33,
   "metadata": {
    "execution": {
     "iopub.execute_input": "2021-01-10T09:02:16.658065Z",
     "iopub.status.busy": "2021-01-10T09:02:16.657102Z",
     "iopub.status.idle": "2021-01-10T09:02:16.662039Z",
     "shell.execute_reply": "2021-01-10T09:02:16.661513Z"
    },
    "papermill": {
     "duration": 0.057401,
     "end_time": "2021-01-10T09:02:16.662162",
     "exception": false,
     "start_time": "2021-01-10T09:02:16.604761",
     "status": "completed"
    },
    "tags": []
   },
   "outputs": [
    {
     "data": {
      "text/plain": [
       "72.46718146718146"
      ]
     },
     "execution_count": 33,
     "metadata": {},
     "output_type": "execute_result"
    }
   ],
   "source": [
    "df8['writing score'].mean()"
   ]
  },
  {
   "cell_type": "code",
   "execution_count": 34,
   "metadata": {
    "execution": {
     "iopub.execute_input": "2021-01-10T09:02:16.761931Z",
     "iopub.status.busy": "2021-01-10T09:02:16.761165Z",
     "iopub.status.idle": "2021-01-10T09:02:16.764646Z",
     "shell.execute_reply": "2021-01-10T09:02:16.764035Z"
    },
    "papermill": {
     "duration": 0.055091,
     "end_time": "2021-01-10T09:02:16.764770",
     "exception": false,
     "start_time": "2021-01-10T09:02:16.709679",
     "status": "completed"
    },
    "tags": []
   },
   "outputs": [],
   "source": [
    "df9=df7.get_group('male')"
   ]
  },
  {
   "cell_type": "code",
   "execution_count": 35,
   "metadata": {
    "execution": {
     "iopub.execute_input": "2021-01-10T09:02:16.860321Z",
     "iopub.status.busy": "2021-01-10T09:02:16.859564Z",
     "iopub.status.idle": "2021-01-10T09:02:16.866078Z",
     "shell.execute_reply": "2021-01-10T09:02:16.865438Z"
    },
    "papermill": {
     "duration": 0.055388,
     "end_time": "2021-01-10T09:02:16.866214",
     "exception": false,
     "start_time": "2021-01-10T09:02:16.810826",
     "status": "completed"
    },
    "tags": []
   },
   "outputs": [
    {
     "data": {
      "text/plain": [
       "68.72821576763485"
      ]
     },
     "execution_count": 35,
     "metadata": {},
     "output_type": "execute_result"
    }
   ],
   "source": [
    "df9['math score'].mean()"
   ]
  },
  {
   "cell_type": "code",
   "execution_count": 36,
   "metadata": {
    "execution": {
     "iopub.execute_input": "2021-01-10T09:02:16.966577Z",
     "iopub.status.busy": "2021-01-10T09:02:16.965926Z",
     "iopub.status.idle": "2021-01-10T09:02:16.972705Z",
     "shell.execute_reply": "2021-01-10T09:02:16.972164Z"
    },
    "papermill": {
     "duration": 0.059891,
     "end_time": "2021-01-10T09:02:16.972830",
     "exception": false,
     "start_time": "2021-01-10T09:02:16.912939",
     "status": "completed"
    },
    "tags": []
   },
   "outputs": [
    {
     "data": {
      "text/plain": [
       "65.47302904564316"
      ]
     },
     "execution_count": 36,
     "metadata": {},
     "output_type": "execute_result"
    }
   ],
   "source": [
    "df9['reading score'].mean()"
   ]
  },
  {
   "cell_type": "code",
   "execution_count": 37,
   "metadata": {
    "execution": {
     "iopub.execute_input": "2021-01-10T09:02:17.074251Z",
     "iopub.status.busy": "2021-01-10T09:02:17.073322Z",
     "iopub.status.idle": "2021-01-10T09:02:17.077577Z",
     "shell.execute_reply": "2021-01-10T09:02:17.078020Z"
    },
    "papermill": {
     "duration": 0.058377,
     "end_time": "2021-01-10T09:02:17.078189",
     "exception": false,
     "start_time": "2021-01-10T09:02:17.019812",
     "status": "completed"
    },
    "tags": []
   },
   "outputs": [
    {
     "data": {
      "text/plain": [
       "63.31120331950208"
      ]
     },
     "execution_count": 37,
     "metadata": {},
     "output_type": "execute_result"
    }
   ],
   "source": [
    "df9['writing score'].mean()"
   ]
  },
  {
   "cell_type": "code",
   "execution_count": 38,
   "metadata": {
    "execution": {
     "iopub.execute_input": "2021-01-10T09:02:17.177565Z",
     "iopub.status.busy": "2021-01-10T09:02:17.176601Z",
     "iopub.status.idle": "2021-01-10T09:02:17.180865Z",
     "shell.execute_reply": "2021-01-10T09:02:17.181354Z"
    },
    "papermill": {
     "duration": 0.055343,
     "end_time": "2021-01-10T09:02:17.181512",
     "exception": false,
     "start_time": "2021-01-10T09:02:17.126169",
     "status": "completed"
    },
    "tags": []
   },
   "outputs": [],
   "source": [
    "import numpy as np"
   ]
  },
  {
   "cell_type": "code",
   "execution_count": 39,
   "metadata": {
    "execution": {
     "iopub.execute_input": "2021-01-10T09:02:17.280423Z",
     "iopub.status.busy": "2021-01-10T09:02:17.279384Z",
     "iopub.status.idle": "2021-01-10T09:02:17.284521Z",
     "shell.execute_reply": "2021-01-10T09:02:17.284972Z"
    },
    "papermill": {
     "duration": 0.056427,
     "end_time": "2021-01-10T09:02:17.285154",
     "exception": false,
     "start_time": "2021-01-10T09:02:17.228727",
     "status": "completed"
    },
    "tags": []
   },
   "outputs": [],
   "source": [
    "scores=['Math score', 'Reading score', 'Writing score']\n",
    "valuesm=[68.7,65.4,63.3]\n",
    "valuesf=[63.6,72.6,72.4]"
   ]
  },
  {
   "cell_type": "code",
   "execution_count": 40,
   "metadata": {
    "execution": {
     "iopub.execute_input": "2021-01-10T09:02:17.386033Z",
     "iopub.status.busy": "2021-01-10T09:02:17.385027Z",
     "iopub.status.idle": "2021-01-10T09:02:17.391044Z",
     "shell.execute_reply": "2021-01-10T09:02:17.391521Z"
    },
    "papermill": {
     "duration": 0.058842,
     "end_time": "2021-01-10T09:02:17.391666",
     "exception": false,
     "start_time": "2021-01-10T09:02:17.332824",
     "status": "completed"
    },
    "tags": []
   },
   "outputs": [
    {
     "data": {
      "text/plain": [
       "array([0, 1, 2])"
      ]
     },
     "execution_count": 40,
     "metadata": {},
     "output_type": "execute_result"
    }
   ],
   "source": [
    "xpos=np.arange(len(scores))\n",
    "xpos"
   ]
  },
  {
   "cell_type": "markdown",
   "metadata": {
    "papermill": {
     "duration": 0.048095,
     "end_time": "2021-01-10T09:02:17.487967",
     "exception": false,
     "start_time": "2021-01-10T09:02:17.439872",
     "status": "completed"
    },
    "tags": []
   },
   "source": [
    "# MALE VS FEMALE SCORE COMPARISON"
   ]
  },
  {
   "cell_type": "code",
   "execution_count": 41,
   "metadata": {
    "execution": {
     "iopub.execute_input": "2021-01-10T09:02:17.609164Z",
     "iopub.status.busy": "2021-01-10T09:02:17.608192Z",
     "iopub.status.idle": "2021-01-10T09:02:17.791603Z",
     "shell.execute_reply": "2021-01-10T09:02:17.791008Z"
    },
    "papermill": {
     "duration": 0.242357,
     "end_time": "2021-01-10T09:02:17.791732",
     "exception": false,
     "start_time": "2021-01-10T09:02:17.549375",
     "status": "completed"
    },
    "tags": []
   },
   "outputs": [
    {
     "data": {
      "text/plain": [
       "<matplotlib.legend.Legend at 0x7f9b49328c90>"
      ]
     },
     "execution_count": 41,
     "metadata": {},
     "output_type": "execute_result"
    },
    {
     "data": {
      "image/png": "[encoded data removed]",
      "text/plain": [
       "<Figure size 432x288 with 1 Axes>"
      ]
     },
     "metadata": {
      "needs_background": "light"
     },
     "output_type": "display_data"
    }
   ],
   "source": [
    "plt.ylabel(\"Score in percentage\")\n",
    "plt.title('Scores comparison')\n",
    "plt.xticks(xpos,scores)\n",
    "plt.bar(xpos-0.1,valuesm, width=0.2 , label=\"Males\")\n",
    "plt.bar(xpos+0.1,valuesf,width=0.2 , label=\"Females\")\n",
    "plt.rcParams['figure.figsize'] = (7,5)\n",
    "plt.legend(loc='best')"
   ]
  },
  {
   "cell_type": "markdown",
   "metadata": {
    "papermill": {
     "duration": 0.056336,
     "end_time": "2021-01-10T09:02:17.899370",
     "exception": false,
     "start_time": "2021-01-10T09:02:17.843034",
     "status": "completed"
    },
    "tags": []
   },
   "source": [
    "# CONCLUSION "
   ]
  },
  {
   "cell_type": "markdown",
   "metadata": {
    "papermill": {
     "duration": 0.050376,
     "end_time": "2021-01-10T09:02:18.013691",
     "exception": false,
     "start_time": "2021-01-10T09:02:17.963315",
     "status": "completed"
    },
    "tags": []
   },
   "source": [
    "## 1. Students having the same reading score in comparison with any kind of parental level of education according to the given data.\n",
    "\n",
    "## 2. According to the given data, Females performed better in reading and writing category then the Males."
   ]
  }
 ],
 "metadata": {
  "kernelspec": {
   "display_name": "Python 3",
   "language": "python",
   "name": "python3"
  },
  "language_info": {
   "codemirror_mode": {
    "name": "ipython",
    "version": 3
   },
   "file_extension": ".py",
   "mimetype": "text/x-python",
   "name": "python",
   "nbconvert_exporter": "python",
   "pygments_lexer": "ipython3",
   "version": "3.7.6"
  },
  "papermill": {
   "duration": 10.561563,
   "end_time": "2021-01-10T09:02:18.173383",
   "environment_variables": {},
   "exception": null,
   "input_path": "__notebook__.ipynb",
   "output_path": "__notebook__.ipynb",
   "parameters": {},
   "start_time": "2021-01-10T09:02:07.611820",
   "version": "2.1.0"
  }
 },
 "nbformat": 4,
 "nbformat_minor": 4
}
